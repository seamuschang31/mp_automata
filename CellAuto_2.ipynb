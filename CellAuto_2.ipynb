{
 "cells": [
  {
   "attachments": {},
   "cell_type": "markdown",
   "metadata": {},
   "source": [
    "## Initialization"
   ]
  },
  {
   "cell_type": "code",
   "execution_count": 235,
   "metadata": {},
   "outputs": [],
   "source": [
    "import numpy as np\n",
    "import matplotlib.pyplot as plt\n",
    "import matplotlib.animation as animation\n",
    "import pandas as pd\n",
    "\n",
    "from matplotlib import colors\n",
    "from sklearn.preprocessing import MinMaxScaler"
   ]
  },
  {
   "attachments": {},
   "cell_type": "markdown",
   "metadata": {},
   "source": [
    "## Import Dataset"
   ]
  },
  {
   "cell_type": "code",
   "execution_count": 256,
   "metadata": {},
   "outputs": [],
   "source": [
    "myFile = 'data/spy.csv'\n",
    "\n",
    "\n",
    "df = pd.read_csv('data/spy.csv')\n",
    "df = df.loc[df['Date'].between(\"2022-01-01\", \"2022-06-30\")]\n",
    "arr = df[['Open', 'High', 'Low', 'Close', 'Day', 'Week', 'Weekday']].to_numpy()\n",
    "\n",
    "scaler = MinMaxScaler()\n",
    "scaler.fit(arr)\n",
    "arr = scaler.transform(arr)\n",
    "arr = arr*2\n",
    "arr = arr.round().astype(int)\n",
    "\n",
    "# Divided matrix into 4 pieces \n",
    "arr = np.split(arr, 4) "
   ]
  },
  {
   "attachments": {},
   "cell_type": "markdown",
   "metadata": {},
   "source": [
    "## Functions"
   ]
  },
  {
   "cell_type": "code",
   "execution_count": 262,
   "metadata": {},
   "outputs": [],
   "source": [
    "# Given two integers, build a row x col matrix\n",
    "def emptyMatrix(rows, cols):\n",
    "    return np.zeros((rows, cols)).tolist()\n",
    "\n",
    "# Given a matrix, return a list containing [row, col]\n",
    "def getSize(matrix):\n",
    "    rows = len(matrix)\n",
    "    cols = len(matrix[0]) if rows > 0 else 0\n",
    "    return (rows, cols)\n",
    "\n",
    "# Given a matrix and a filename, insert the values into matrix and return it\n",
    "def importValues(matrix, fName):\n",
    "    num_rows = len(matrix)\n",
    "    num_cols = len(matrix[0])\n",
    "\n",
    "    with open(fName, 'r') as f:\n",
    "        lines = f.readlines()\n",
    "        for line in lines:\n",
    "            row, col = [int(x) for x in line.strip().split()]\n",
    "            if 0 <= row < num_rows and 0 <= col < num_cols:\n",
    "                matrix[row][col] = 1\n",
    "    return matrix\n",
    "\n",
    "import copy\n",
    "# Given a matrix, return the corresponding matrix for the next timestep\n",
    "count = 0\n",
    "def update(matrix): \n",
    "    global count\n",
    "    matrix = arr[count]\n",
    "    num_rows = len(matrix)\n",
    "    num_cols = len(matrix[0])\n",
    "    \n",
    "    new_matrix = copy.deepcopy(matrix)\n",
    "    \n",
    "    for i in range(num_rows):\n",
    "        for j in range(num_cols):\n",
    "            live_neighbors = 0\n",
    "            for x in range(i - 1, i + 2):\n",
    "                for y in range(j - 1, j + 2):\n",
    "                    if 0 <= x < num_rows and 0 <= y < num_cols and not (x == i and y == j):\n",
    "                        if matrix[x][y] == 1:\n",
    "                            live_neighbors += 1\n",
    "            \n",
    "            if matrix[i][j] == 1:\n",
    "                if live_neighbors < 2 or live_neighbors > 3:\n",
    "                    new_matrix[i][j] = 0\n",
    "            else:\n",
    "                if live_neighbors == 3:\n",
    "                    new_matrix[i][j] = 1\n",
    "    count += 1\n",
    "    return new_matrix\n",
    "\n",
    "def updateFig(frameNum, img, matrix):\n",
    "    if (frameNum == 0):\n",
    "        return img    \n",
    "\n",
    "    nm = update(matrix)\n",
    "    matrix[:] = nm[:]\n",
    "    img.set_data(nm)\n",
    "    return img\n",
    "\n",
    "def animate(matrix, steps, outname):\n",
    "    matrix = np.array(matrix)\n",
    "    cmap = colors.ListedColormap(['blue', 'yellow', 'red']) \n",
    "    bounds = [0, 1, 2, 3]\n",
    "\n",
    "    norm = colors.BoundaryNorm(bounds, cmap.N)\n",
    "\n",
    "    fig, ax = plt.subplots()\n",
    "    plt.grid(False)\n",
    "    img = ax.imshow(arr[0], cmap=cmap, norm=norm)\n",
    "    ani = animation.FuncAnimation(fig, updateFig, fargs=(img, matrix), frames=steps)\n",
    "\n",
    "    ani.save(outname, fps=2)\n"
   ]
  },
  {
   "attachments": {},
   "cell_type": "markdown",
   "metadata": {},
   "source": [
    "## Output"
   ]
  },
  {
   "cell_type": "code",
   "execution_count": 263,
   "metadata": {},
   "outputs": [
    {
     "name": "stderr",
     "output_type": "stream",
     "text": [
      "MovieWriter ffmpeg unavailable; using Pillow instead.\n"
     ]
    },
    {
     "data": {
      "image/png": "[encoded data removed]",
      "text/plain": [
       "<Figure size 432x288 with 1 Axes>"
      ]
     },
     "metadata": {
      "needs_background": "light"
     },
     "output_type": "display_data"
    }
   ],
   "source": [
    "animate(arr, 4, 'yourOutput2.gif')"
   ]
  }
 ],
 "metadata": {
  "kernelspec": {
   "display_name": "Python 3",
   "language": "python",
   "name": "python3"
  },
  "language_info": {
   "codemirror_mode": {
    "name": "ipython",
    "version": 3
   },
   "file_extension": ".py",
   "mimetype": "text/x-python",
   "name": "python",
   "nbconvert_exporter": "python",
   "pygments_lexer": "ipython3",
   "version": "3.8.8"
  },
  "orig_nbformat": 4,
  "vscode": {
   "interpreter": {
    "hash": "b176650074dd1da4bbba59d752e833212d499e651c98aa45378b5f802270ec1e"
   }
  }
 },
 "nbformat": 4,
 "nbformat_minor": 2
}
